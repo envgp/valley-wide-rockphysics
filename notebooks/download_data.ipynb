{
 "cells": [
  {
   "cell_type": "code",
   "execution_count": 1,
   "id": "6498c46b-de9d-4800-bb81-4c07aeb5d6fb",
   "metadata": {},
   "outputs": [],
   "source": [
    "import redivis\n",
    "import numpy as np\n",
    "import geopandas as gpd"
   ]
  },
  {
   "cell_type": "markdown",
   "id": "b5413245-6966-4b46-a358-7017ed9badd9",
   "metadata": {},
   "source": [
    "## Worflow: \n",
    "\n",
    "- Step 1: Define the boudnary of the Central Valley\n",
    "- Step 2: Download sediment type data\n",
    "- Step 3: Download State-wide AEM resistivity data \n",
    "- Step 4: Download Water level data"
   ]
  },
  {
   "cell_type": "code",
   "execution_count": 2,
   "id": "cd586f19-55d7-4fc8-a23c-2329bad51410",
   "metadata": {},
   "outputs": [],
   "source": [
    "org_em_recharge = redivis.organization(\"KnightAccelerator\")\n",
    "em_dataset = org_em_recharge.dataset(\"em_data\")\n",
    "sediment_type_dataset = org_em_recharge.dataset(\"sediment_type_data\")\n",
    "waterlevel_dataset = org_em_recharge.dataset(\"waterlevel_data\")\n",
    "ca_geo_dataset = org_em_recharge.dataset(\"California State Geo Features\")"
   ]
  },
  {
   "cell_type": "code",
   "execution_count": 3,
   "id": "561bb3df-5f6c-4b54-877c-d95cff986bf8",
   "metadata": {},
   "outputs": [],
   "source": [
    "target_path = \"./\""
   ]
  },
  {
   "cell_type": "code",
   "execution_count": 9,
   "id": "f96c8fe2-8a9a-4dd8-98eb-d8fa63c3109a",
   "metadata": {},
   "outputs": [],
   "source": [
    "gdf_cv = gpd.read_file(\"../data/shp/cv.shp\")\n",
    "geom = gdf_cv.geometry[0]\n",
    "\n",
    "from shapely.geometry import Polygon\n",
    "\n",
    "USER_DEFINED_POLYGON = gdf_cv.geometry[0]\n",
    "xx, yy = USER_DEFINED_POLYGON.exterior.coords.xy\n",
    "\n",
    "# Create polygon from lists of points\n",
    "x = xx[::1].tolist()\n",
    "y = yy[::1].tolist()\n",
    "\n",
    "USER_DEFINED_POLYGON = Polygon(zip(x,y))"
   ]
  },
  {
   "cell_type": "code",
   "execution_count": 12,
   "id": "28033b98-7ae3-402e-aa02-231734f0fcea",
   "metadata": {},
   "outputs": [
    {
     "data": {
      "application/json": {
       "ascii": false,
       "bar_format": null,
       "colour": null,
       "elapsed": 0.01617908477783203,
       "initial": 0,
       "n": 0,
       "ncols": null,
       "nrows": 24,
       "postfix": null,
       "prefix": "",
       "rate": null,
       "total": 515,
       "unit": "it",
       "unit_divisor": 1000,
       "unit_scale": false
      },
      "application/vnd.jupyter.widget-view+json": {
       "model_id": "",
       "version_major": 2,
       "version_minor": 0
      },
      "text/plain": [
       "  0%|          | 0/515 [00:00<?, ?it/s]"
      ]
     },
     "metadata": {},
     "output_type": "display_data"
    }
   ],
   "source": [
    "# Then draw a polygon\n",
    "q = ca_geo_dataset.query(f\"\"\"\n",
    "    SELECT geometry, Basin_Name, Basin_Su_1, Basin_Subb\n",
    "    FROM basins L\n",
    "\"\"\")\n",
    "gdf_geom = q.to_dataframe()\n",
    "gdf = gpd.GeoDataFrame(data=gdf_geom[['Basin_Name', 'Basin_Su_1','Basin_Subb']], geometry=gdf_geom.geometry, crs=4326)\n",
    "gdf.to_file(f\"{target_path}/basins.geojson\")"
   ]
  },
  {
   "cell_type": "code",
   "execution_count": 36,
   "id": "2831eebb-3379-4aa3-80e4-69c97d6b001d",
   "metadata": {},
   "outputs": [
    {
     "data": {
      "application/json": {
       "ascii": false,
       "bar_format": null,
       "colour": null,
       "elapsed": 0.02600407600402832,
       "initial": 0,
       "n": 0,
       "ncols": null,
       "nrows": 24,
       "postfix": null,
       "prefix": "",
       "rate": null,
       "total": 19172,
       "unit": "it",
       "unit_divisor": 1000,
       "unit_scale": false
      },
      "application/vnd.jupyter.widget-view+json": {
       "model_id": "",
       "version_major": 2,
       "version_minor": 0
      },
      "text/plain": [
       "  0%|          | 0/19172 [00:00<?, ?it/s]"
      ]
     },
     "metadata": {},
     "output_type": "display_data"
    }
   ],
   "source": [
    "# Then draw a polygon\n",
    "q = ca_geo_dataset.query(f\"\"\"\n",
    "    SELECT geometry, MTRS\n",
    "    FROM plss L\n",
    "    WHERE ST_Contains(ST_GeogFromText(\"{USER_DEFINED_POLYGON}\"),L.geometry)\n",
    "\"\"\")\n",
    "gdf_geom = q.to_dataframe()\n",
    "gdf = gpd.GeoDataFrame(data=gdf_geom['MTRS'], geometry=gdf_geom.geometry, crs=4326)\n",
    "gdf.to_file(f\"{target_path}/plss.geojson\")"
   ]
  },
  {
   "cell_type": "code",
   "execution_count": 50,
   "id": "981b7c3a-d7c3-4038-9eb7-34d04678f358",
   "metadata": {},
   "outputs": [
    {
     "data": {
      "application/json": {
       "ascii": false,
       "bar_format": null,
       "colour": null,
       "elapsed": 0.02589702606201172,
       "initial": 0,
       "n": 0,
       "ncols": null,
       "nrows": 24,
       "postfix": null,
       "prefix": "",
       "rate": null,
       "total": 376761,
       "unit": "it",
       "unit_divisor": 1000,
       "unit_scale": false
      },
      "application/vnd.jupyter.widget-view+json": {
       "model_id": "",
       "version_major": 2,
       "version_minor": 0
      },
      "text/plain": [
       "  0%|          | 0/376761 [00:00<?, ?it/s]"
      ]
     },
     "metadata": {},
     "output_type": "display_data"
    },
    {
     "name": "stdout",
     "output_type": "stream",
     "text": [
      "Completed: 376761 rows downloaded.\n"
     ]
    }
   ],
   "source": [
    "# Then draw a polygon\n",
    "SURVEY_ID = \"cdwr_sacv\"\n",
    "\n",
    "q = em_dataset.query(f\"\"\"\n",
    "    SELECT RECORD, ELEVATION, UTMX, UTMY, LINE_NO, SURVEY_ID, DOI_STANDARD, RESDATA, MEASUREMENTS\n",
    "    FROM SurveyLocation L\n",
    "    WHERE SURVEY_ID=\"{SURVEY_ID}\" AND ST_Contains(ST_GeogFromText(\"{USER_DEFINED_POLYGON}\"),L.geometry)\n",
    "\"\"\")\n",
    "df_em = q.to_dataframe()\n",
    "df_em.to_csv(f\"{target_path}/em_resistivity.csv\", index=False)\n",
    "\n",
    "print(f\"Completed: {len(df_em.index)} rows downloaded.\")"
   ]
  },
  {
   "cell_type": "code",
   "execution_count": 51,
   "id": "cab0abb1-8c08-485e-a18c-1f913acafc7e",
   "metadata": {},
   "outputs": [
    {
     "name": "stdout",
     "output_type": "stream",
     "text": [
      "Loading... Layer Thickness to the compute server\n"
     ]
    },
    {
     "data": {
      "application/json": {
       "ascii": false,
       "bar_format": null,
       "colour": null,
       "elapsed": 0.025535106658935547,
       "initial": 0,
       "n": 0,
       "ncols": null,
       "nrows": 24,
       "postfix": null,
       "prefix": "",
       "rate": null,
       "total": 1,
       "unit": "it",
       "unit_divisor": 1000,
       "unit_scale": false
      },
      "application/vnd.jupyter.widget-view+json": {
       "model_id": "",
       "version_major": 2,
       "version_minor": 0
      },
      "text/plain": [
       "  0%|          | 0/1 [00:00<?, ?it/s]"
      ]
     },
     "metadata": {},
     "output_type": "display_data"
    },
    {
     "name": "stdout",
     "output_type": "stream",
     "text": [
      "Completed.\n"
     ]
    }
   ],
   "source": [
    "print(\"Loading... Layer Thickness to the compute server\")\n",
    "# TODO: add a season in the Survey table\n",
    "q = em_dataset.query(f\"\"\"\n",
    "    SELECT THICKNESS, KIND, YEAR, SEASON\n",
    "    FROM Survey\n",
    "    WHERE ID=\"{SURVEY_ID}\" AND GEOTYPE=\"BOUNDS\"\n",
    "\"\"\")\n",
    "df_thickness = q.to_dataframe()\n",
    "df_thickness.to_csv(f\"{target_path}/thickness.csv\", index=False)\n",
    "\n",
    "print(f\"Completed.\")"
   ]
  },
  {
   "cell_type": "code",
   "execution_count": 52,
   "id": "2668db41-7df4-4f3c-8ea6-3ffcb16cd026",
   "metadata": {},
   "outputs": [],
   "source": [
    "year = df_thickness['YEAR'].values[0]\n",
    "season = df_thickness['SEASON'].values[0].capitalize()"
   ]
  },
  {
   "cell_type": "code",
   "execution_count": 53,
   "id": "33799251-80ba-4683-bce2-259f1154513e",
   "metadata": {},
   "outputs": [],
   "source": [
    "sediment_type_path = f\"{target_path}/sediment_type.csv\""
   ]
  },
  {
   "cell_type": "code",
   "execution_count": 54,
   "id": "77275e03-c678-4985-815e-38a2455733dc",
   "metadata": {},
   "outputs": [
    {
     "name": "stdout",
     "output_type": "stream",
     "text": [
      "Loading... Public Sediment / Rock Type to the compute server\n"
     ]
    },
    {
     "data": {
      "application/json": {
       "ascii": false,
       "bar_format": null,
       "colour": null,
       "elapsed": 0.02081894874572754,
       "initial": 0,
       "n": 0,
       "ncols": null,
       "nrows": 24,
       "postfix": null,
       "prefix": "",
       "rate": null,
       "total": 36488,
       "unit": "it",
       "unit_divisor": 1000,
       "unit_scale": false
      },
      "application/vnd.jupyter.widget-view+json": {
       "model_id": "",
       "version_major": 2,
       "version_minor": 0
      },
      "text/plain": [
       "  0%|          | 0/36488 [00:00<?, ?it/s]"
      ]
     },
     "metadata": {},
     "output_type": "display_data"
    },
    {
     "name": "stdout",
     "output_type": "stream",
     "text": [
      "Completed: 36488 records downloaded.\n"
     ]
    }
   ],
   "source": [
    "print(\"Loading... Public Sediment / Rock Type to the compute server\")\n",
    "q = sediment_type_dataset.query(f\"\"\"\n",
    "    SELECT WELL_NAME, UTMX, UTMY, WELL_ID, KIND, MEASUREMENTS, METADATA\n",
    "    FROM SedimentTypeLocation L\n",
    "    WHERE ST_Contains(ST_GeogFromText(\"{USER_DEFINED_POLYGON}\"),L.geometry)\n",
    "\"\"\")\n",
    "df_sediment_type = q.to_dataframe()\n",
    "df_sediment_type.to_csv(sediment_type_path, index=False)\n",
    "print(f\"Completed: {len(df_sediment_type.index)} records downloaded.\")"
   ]
  },
  {
   "cell_type": "code",
   "execution_count": 55,
   "id": "2a80f98b-9ba9-44aa-a425-d96c1e93d72c",
   "metadata": {},
   "outputs": [
    {
     "data": {
      "application/json": {
       "ascii": false,
       "bar_format": null,
       "colour": null,
       "elapsed": 0.02157902717590332,
       "initial": 0,
       "n": 0,
       "ncols": null,
       "nrows": 24,
       "postfix": null,
       "prefix": "",
       "rate": null,
       "total": 12350,
       "unit": "it",
       "unit_divisor": 1000,
       "unit_scale": false
      },
      "application/vnd.jupyter.widget-view+json": {
       "model_id": "",
       "version_major": 2,
       "version_minor": 0
      },
      "text/plain": [
       "  0%|          | 0/12350 [00:00<?, ?it/s]"
      ]
     },
     "metadata": {},
     "output_type": "display_data"
    },
    {
     "name": "stdout",
     "output_type": "stream",
     "text": [
      "Completed: 12350 records downloaded.\n"
     ]
    }
   ],
   "source": [
    "q = waterlevel_dataset.query(f\"\"\"\n",
    "    SELECT WELL_NAME, UTMX, UTMY, WELL_ID, KIND, MEASUREMENTS\n",
    "    FROM WaterlevelLocation L\n",
    "    WHERE ST_Contains(ST_GeogFromText(\"{USER_DEFINED_POLYGON}\"),L.geometry)\n",
    "\"\"\")\n",
    "df_waterlevel = q.to_dataframe()\n",
    "df_waterlevel.to_csv(f\"{target_path}/waterlevel.csv\", index=False)\n",
    "\n",
    "print(f\"Completed: {len(df_waterlevel.index)} records downloaded.\")"
   ]
  },
  {
   "cell_type": "code",
   "execution_count": 56,
   "id": "c24b3ed6-39a4-4a24-a1c3-2a099ab7b855",
   "metadata": {},
   "outputs": [
    {
     "data": {
      "application/json": {
       "ascii": false,
       "bar_format": null,
       "colour": null,
       "elapsed": 0.021869897842407227,
       "initial": 0,
       "n": 0,
       "ncols": null,
       "nrows": 24,
       "postfix": null,
       "prefix": "",
       "rate": null,
       "total": 21126,
       "unit": "it",
       "unit_divisor": 1000,
       "unit_scale": false
      },
      "application/vnd.jupyter.widget-view+json": {
       "model_id": "",
       "version_major": 2,
       "version_minor": 0
      },
      "text/plain": [
       "  0%|          | 0/21126 [00:00<?, ?it/s]"
      ]
     },
     "metadata": {},
     "output_type": "display_data"
    },
    {
     "name": "stdout",
     "output_type": "stream",
     "text": [
      "Completed: 2022 Spring data downloaded.\n"
     ]
    }
   ],
   "source": [
    "q = waterlevel_dataset.query(f\"\"\"\n",
    "    SELECT LOCATION_ID, UTMX, UTMY, GSE_WSE, SEASON, YEAR\n",
    "    FROM WaterlevelContourLocation L\n",
    "    WHERE YEAR={year} AND SEASON=\"{season}\"\n",
    "\"\"\")\n",
    "df_waterlevel_contour = q.to_dataframe()\n",
    "df_waterlevel_contour.to_csv(f\"{target_path}/waterlevel_contour.csv\", index=False)\n",
    "\n",
    "print(f\"Completed: {year} {season} data downloaded.\")"
   ]
  },
  {
   "cell_type": "code",
   "execution_count": 4,
   "id": "d988567a-5a89-4e22-8c95-87995ce650ea",
   "metadata": {},
   "outputs": [
    {
     "name": "stdout",
     "output_type": "stream",
     "text": [
      "Loading... Bedrock Surface to a computer server\n"
     ]
    },
    {
     "data": {
      "application/json": {
       "ascii": false,
       "bar_format": null,
       "colour": null,
       "elapsed": 0.019353866577148438,
       "initial": 0,
       "n": 0,
       "ncols": null,
       "nrows": 24,
       "postfix": null,
       "prefix": "",
       "rate": null,
       "total": 32440,
       "unit": "it",
       "unit_divisor": 1000,
       "unit_scale": false
      },
      "application/vnd.jupyter.widget-view+json": {
       "model_id": "",
       "version_major": 2,
       "version_minor": 0
      },
      "text/plain": [
       "  0%|          | 0/32440 [00:00<?, ?it/s]"
      ]
     },
     "metadata": {},
     "output_type": "display_data"
    },
    {
     "name": "stdout",
     "output_type": "stream",
     "text": [
      "Completed.\n"
     ]
    }
   ],
   "source": [
    "print(\"Loading... Bedrock Surface to a computer server\")\n",
    "# TODO: add a season in the Survey table\n",
    "q = em_dataset.query(f\"\"\"\n",
    "    SELECT BEDROCK_SURFACE_DEPTH, BEDROCK_SURFACE_ELEVATION, UTMX, UTMY\n",
    "    FROM BedrockSurface\n",
    "\"\"\")\n",
    "df_bedrock = q.to_dataframe()\n",
    "df_bedrock.to_csv(f\"{target_path}/bedrock_surface.csv\", index=False)\n",
    "\n",
    "print(f\"Completed.\")"
   ]
  },
  {
   "cell_type": "code",
   "execution_count": null,
   "id": "8d392da2-718b-44bd-ae71-b8d44b7c4784",
   "metadata": {},
   "outputs": [],
   "source": []
  }
 ],
 "metadata": {
  "kernelspec": {
   "display_name": "Python 3 (ipykernel)",
   "language": "python",
   "name": "python3"
  },
  "language_info": {
   "codemirror_mode": {
    "name": "ipython",
    "version": 3
   },
   "file_extension": ".py",
   "mimetype": "text/x-python",
   "name": "python",
   "nbconvert_exporter": "python",
   "pygments_lexer": "ipython3",
   "version": "3.8.10"
  }
 },
 "nbformat": 4,
 "nbformat_minor": 5
}
